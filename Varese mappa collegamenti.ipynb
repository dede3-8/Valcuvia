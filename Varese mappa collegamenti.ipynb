{
 "cells": [
  {
   "cell_type": "code",
   "execution_count": 1,
   "id": "27a809e4",
   "metadata": {},
   "outputs": [],
   "source": [
    "import numpy as np\n",
    "import pandas as pd\n",
    "import matplotlib.pyplot as plt\n",
    "import seaborn as sns\n",
    "from collections import Counter\n",
    "import folium "
   ]
  },
  {
   "cell_type": "code",
   "execution_count": 2,
   "id": "cf0366a2",
   "metadata": {},
   "outputs": [],
   "source": [
    "import warnings\n",
    "warnings.filterwarnings(\"ignore\")"
   ]
  },
  {
   "cell_type": "code",
   "execution_count": 3,
   "id": "21b46f96",
   "metadata": {},
   "outputs": [],
   "source": [
    "matrice2=pd.read_csv('/Users/davidelibera/Desktop/matrice_od_2016_passeggeri.csv')"
   ]
  },
  {
   "cell_type": "code",
   "execution_count": 39,
   "id": "13ded39c",
   "metadata": {},
   "outputs": [
    {
     "data": {
      "text/plain": [
       "Index(['PROV_ORIG', 'ZONA_ORIG', 'PROV_DEST', 'ZONA_DEST', 'FASCIA_ORARIA',\n",
       "       'LAV_COND', 'LAV_PAX', 'LAV_MOTO', 'LAV_FERRO', 'LAV_GOMMA', 'LAV_BICI',\n",
       "       'LAV_PIEDI', 'LAV_ALTRO', 'STU_COND', 'STU_PAX', 'STU_MOTO',\n",
       "       'STU_FERRO', 'STU_GOMMA', 'STU_BICI', 'STU_PIEDI', 'STU_ALTRO',\n",
       "       'OCC_COND', 'OCC_PAX', 'OCC_MOTO', 'OCC_FERRO', 'OCC_GOMMA', 'OCC_BICI',\n",
       "       'OCC_PIEDI', 'OCC_ALTRO', 'AFF_COND', 'AFF_PAX', 'AFF_MOTO',\n",
       "       'AFF_FERRO', 'AFF_GOMMA', 'AFF_BICI', 'AFF_PIEDI', 'AFF_ALTRO',\n",
       "       'RIT_COND', 'RIT_PAX', 'RIT_MOTO', 'RIT_FERRO', 'RIT_GOMMA', 'RIT_BICI',\n",
       "       'RIT_PIEDI', 'RIT_ALTRO'],\n",
       "      dtype='object')"
      ]
     },
     "execution_count": 39,
     "metadata": {},
     "output_type": "execute_result"
    }
   ],
   "source": [
    "matrice2.keys()"
   ]
  },
  {
   "cell_type": "code",
   "execution_count": 4,
   "id": "3ddda5bf",
   "metadata": {},
   "outputs": [],
   "source": [
    "valcuvia1=matrice2.loc[((matrice2['ZONA_ORIG']=='CUVIO') | (matrice2['ZONA_ORIG']=='CASSANO VALCUVIA')| \n",
    "             (matrice2['ZONA_ORIG']=='BRENTA') | (matrice2['ZONA_ORIG']=='RANCIO VALCUVIA')|\n",
    "             (matrice2['ZONA_ORIG']=='GRANTOLA') | (matrice2['ZONA_ORIG']=='CITTIGLIO')|\n",
    "             (matrice2['ZONA_ORIG']=='CASALZUIGNO') | (matrice2['ZONA_ORIG']=='CUVIO')|\n",
    "             (matrice2['ZONA_ORIG']=='BEDERO VALCUVIA') | (matrice2['ZONA_ORIG']=='MESENZANA')|\n",
    "             (matrice2['ZONA_ORIG']=='FERRERA DI VARESE') | (matrice2['ZONA_ORIG']=='MONTEGRINO VALTRAVAGLIA')|\n",
    "             (matrice2['ZONA_ORIG']=='CUVEGLIO-DUNO')| (matrice2['ZONA_ORIG']=='GERMIGNAGA'))\n",
    "             & ((matrice2['FASCIA_ORARIA']=='07:00-07:59') | (matrice2['FASCIA_ORARIA']=='08:00-08:59'))]"
   ]
  },
  {
   "cell_type": "code",
   "execution_count": 5,
   "id": "4aa9c6fa",
   "metadata": {},
   "outputs": [],
   "source": [
    "valcuvia1['LAV']=valcuvia1['LAV_COND']+valcuvia1['LAV_PAX']+valcuvia1['LAV_MOTO']+valcuvia1['LAV_FERRO']+valcuvia1['LAV_GOMMA']\n",
    "valcuvia1['AFF']=valcuvia1['AFF_COND']+valcuvia1['AFF_PAX']+valcuvia1['AFF_MOTO']+valcuvia1['AFF_FERRO']+valcuvia1['AFF_GOMMA']\n",
    "valcuvia1['STU']=valcuvia1['STU_COND']+valcuvia1['STU_PAX']+valcuvia1['STU_MOTO']+valcuvia1['STU_FERRO']+valcuvia1['STU_GOMMA']\n",
    "valcuvia1['OCC']=valcuvia1['OCC_COND']+valcuvia1['OCC_PAX']+valcuvia1['OCC_MOTO']+valcuvia1['OCC_FERRO']+valcuvia1['OCC_GOMMA']\n",
    "valcuvia1['RIT']=valcuvia1['RIT_COND']+valcuvia1['RIT_PAX']+valcuvia1['RIT_MOTO']+valcuvia1['RIT_FERRO']+valcuvia1['RIT_GOMMA']"
   ]
  },
  {
   "cell_type": "code",
   "execution_count": 6,
   "id": "93cab904",
   "metadata": {},
   "outputs": [],
   "source": [
    "valcuvia1['AUTO']=valcuvia1['LAV_COND']+valcuvia1['LAV_PAX']\\\n",
    "                +valcuvia1['STU_COND']+valcuvia1['STU_PAX']+valcuvia1['OCC_COND']\\\n",
    "                +valcuvia1['OCC_PAX']+valcuvia1['AFF_PAX']+\\\n",
    "                 valcuvia1['AFF_COND']+valcuvia1['RIT_COND']+valcuvia1['RIT_PAX']\n",
    "valcuvia1['FERRO']=valcuvia1['LAV_FERRO']+valcuvia1['STU_FERRO']+\\\n",
    "                  valcuvia1['OCC_FERRO']+valcuvia1['AFF_FERRO']+valcuvia1['RIT_FERRO']\n",
    "valcuvia1['MOTO']=valcuvia1['LAV_MOTO']+valcuvia1['STU_MOTO']+\\\n",
    "                valcuvia1['OCC_MOTO']+valcuvia1['AFF_MOTO']+valcuvia1['RIT_MOTO']\n",
    "valcuvia1['BICI']=valcuvia1['LAV_BICI']+valcuvia1['STU_BICI']+\\\n",
    "                valcuvia1['OCC_BICI']+valcuvia1['AFF_BICI']+valcuvia1['RIT_BICI']\n",
    "valcuvia1['GOMMA']=valcuvia1['LAV_GOMMA']+valcuvia1['STU_GOMMA']+\\\n",
    "                valcuvia1['OCC_GOMMA']+valcuvia1['AFF_GOMMA']+valcuvia1['RIT_GOMMA']\n",
    "valcuvia1['PIEDI']=valcuvia1['LAV_PIEDI']+valcuvia1['STU_PIEDI']+\\\n",
    "                valcuvia1['OCC_PIEDI']+valcuvia1['AFF_PIEDI']+valcuvia1['RIT_PIEDI']\n",
    "valcuvia1['ALTRO']=valcuvia1['LAV_ALTRO']+valcuvia1['STU_ALTRO']+\\\n",
    "                valcuvia1['OCC_ALTRO']+valcuvia1['AFF_ALTRO']+valcuvia1['RIT_ALTRO']\n",
    "valcuvia1['TOT']=valcuvia1['LAV']+valcuvia1['AFF']+valcuvia1['STU']+valcuvia1['OCC']+\\\n",
    "                valcuvia1['RIT']"
   ]
  },
  {
   "cell_type": "code",
   "execution_count": 7,
   "id": "fd222ce6",
   "metadata": {},
   "outputs": [],
   "source": [
    "valcuvia_red=valcuvia1[['ZONA_ORIG','ZONA_DEST','FASCIA_ORARIA','TOT']]"
   ]
  },
  {
   "cell_type": "code",
   "execution_count": 8,
   "id": "f71de615",
   "metadata": {},
   "outputs": [],
   "source": [
    "località=['BEDERO VALCUVIA','BRENTA','CASALZUIGNO','CASSANO VALCUVIA','CITTIGLIO','CUVIO','FERRERA DI VARESE',\n",
    "           'GERMIGNAGA','GRANTOLA','MESENZANA','MONTEGRINO VALTRAVAGLIA','RANCIO VALCUVIA']"
   ]
  },
  {
   "cell_type": "code",
   "execution_count": 9,
   "id": "0fd1d901",
   "metadata": {},
   "outputs": [],
   "source": [
    "valcuvia2=valcuvia_red.groupby(['ZONA_ORIG','ZONA_DEST'], as_index=False).agg({'TOT':'sum'})\n"
   ]
  },
  {
   "cell_type": "code",
   "execution_count": 10,
   "id": "67d7ae64",
   "metadata": {},
   "outputs": [],
   "source": [
    "valcuvia2=valcuvia2.set_index('ZONA_DEST')\n"
   ]
  },
  {
   "cell_type": "code",
   "execution_count": 11,
   "id": "ea07bca5",
   "metadata": {},
   "outputs": [],
   "source": [
    "valcuvia2=valcuvia2.reset_index()"
   ]
  },
  {
   "cell_type": "code",
   "execution_count": 12,
   "id": "5be1392c",
   "metadata": {},
   "outputs": [
    {
     "data": {
      "text/html": [
       "<div>\n",
       "<style scoped>\n",
       "    .dataframe tbody tr th:only-of-type {\n",
       "        vertical-align: middle;\n",
       "    }\n",
       "\n",
       "    .dataframe tbody tr th {\n",
       "        vertical-align: top;\n",
       "    }\n",
       "\n",
       "    .dataframe thead th {\n",
       "        text-align: right;\n",
       "    }\n",
       "</style>\n",
       "<table border=\"1\" class=\"dataframe\">\n",
       "  <thead>\n",
       "    <tr style=\"text-align: right;\">\n",
       "      <th></th>\n",
       "      <th>ZONA_DEST</th>\n",
       "      <th>ZONA_ORIG</th>\n",
       "      <th>TOT</th>\n",
       "    </tr>\n",
       "  </thead>\n",
       "  <tbody>\n",
       "  </tbody>\n",
       "</table>\n",
       "</div>"
      ],
      "text/plain": [
       "Empty DataFrame\n",
       "Columns: [ZONA_DEST, ZONA_ORIG, TOT]\n",
       "Index: []"
      ]
     },
     "execution_count": 12,
     "metadata": {},
     "output_type": "execute_result"
    }
   ],
   "source": [
    "valcuvia2.loc[(valcuvia2['ZONA_ORIG']=='LUINO')]"
   ]
  },
  {
   "cell_type": "code",
   "execution_count": 13,
   "id": "1f31f9b3",
   "metadata": {},
   "outputs": [
    {
     "data": {
      "text/plain": [
       "ZONA_DEST    VARESE 5\n",
       "ZONA_ORIG      BRENTA\n",
       "TOT             19.59\n",
       "dtype: object"
      ]
     },
     "execution_count": 13,
     "metadata": {},
     "output_type": "execute_result"
    }
   ],
   "source": [
    "valcuvia2.loc[(valcuvia2['ZONA_DEST']=='VARESE 1') & (valcuvia2['ZONA_ORIG']=='BRENTA')]\n",
    "valcuvia2.loc[(valcuvia2['ZONA_DEST']=='VARESE 2') & (valcuvia2['ZONA_ORIG']=='BRENTA')]\n",
    "valcuvia2.loc[(valcuvia2['ZONA_DEST']=='VARESE 3') & (valcuvia2['ZONA_ORIG']=='BRENTA')]\n",
    "valcuvia2.loc[(valcuvia2['ZONA_DEST']=='VARESE 4') & (valcuvia2['ZONA_ORIG']=='BRENTA')].sum()\n",
    "valcuvia2.loc[(valcuvia2['ZONA_DEST']=='VARESE 5') & (valcuvia2['ZONA_ORIG']=='BRENTA')].sum()"
   ]
  },
  {
   "cell_type": "code",
   "execution_count": 14,
   "id": "4f8f4835",
   "metadata": {},
   "outputs": [],
   "source": [
    "tot_brenta=valcuvia2.loc[valcuvia2['ZONA_DEST'].isin(['VARESE 1','VARESE 2','VARESE 3','VARESE 4','VARESE 5']) & (valcuvia2['ZONA_ORIG']=='BRENTA')].sum()\n",
    "\n",
    "\n",
    "\n",
    "\n",
    "\n"
   ]
  },
  {
   "cell_type": "code",
   "execution_count": 15,
   "id": "2f8ab26e",
   "metadata": {},
   "outputs": [
    {
     "data": {
      "text/plain": [
       "82.75999999999999"
      ]
     },
     "execution_count": 15,
     "metadata": {},
     "output_type": "execute_result"
    }
   ],
   "source": [
    "tot_brenta['TOT']"
   ]
  },
  {
   "cell_type": "code",
   "execution_count": 16,
   "id": "27a952d2",
   "metadata": {},
   "outputs": [],
   "source": [
    "tot=[]\n",
    "for i in range(len(località)):\n",
    "    totale=valcuvia2.loc[valcuvia2['ZONA_DEST'].isin(['VARESE 1','VARESE 2','VARESE 3','VARESE 4','VARESE 5']) & (valcuvia2['ZONA_ORIG']==località[i])].sum()\n",
    "    tot.append(totale['TOT'])\n",
    "    "
   ]
  },
  {
   "cell_type": "code",
   "execution_count": 18,
   "id": "98d7d9e9",
   "metadata": {},
   "outputs": [],
   "source": [
    "var=['VARESE']*12\n",
    "d = {'TOT': tot, 'ZONA_ORIG': località,'ZONA_DEST': var}\n",
    "df=pd.DataFrame(d)"
   ]
  },
  {
   "cell_type": "code",
   "execution_count": 19,
   "id": "3a8aeadb",
   "metadata": {},
   "outputs": [],
   "source": [
    "tratte_max=valcuvia2.nlargest(20, ['TOT'])\n",
    "tratte_max=tratte_max[tratte_max['ZONA_ORIG']!=tratte_max['ZONA_DEST']]"
   ]
  },
  {
   "cell_type": "code",
   "execution_count": 20,
   "id": "1398426d",
   "metadata": {},
   "outputs": [],
   "source": [
    "tratte_max=pd.concat([tratte_max,df])\n",
    "tratte_max=tratte_max.sort_values('TOT',ascending=False)\n"
   ]
  },
  {
   "cell_type": "code",
   "execution_count": 21,
   "id": "9227da45",
   "metadata": {},
   "outputs": [
    {
     "data": {
      "text/html": [
       "<div>\n",
       "<style scoped>\n",
       "    .dataframe tbody tr th:only-of-type {\n",
       "        vertical-align: middle;\n",
       "    }\n",
       "\n",
       "    .dataframe tbody tr th {\n",
       "        vertical-align: top;\n",
       "    }\n",
       "\n",
       "    .dataframe thead th {\n",
       "        text-align: right;\n",
       "    }\n",
       "</style>\n",
       "<table border=\"1\" class=\"dataframe\">\n",
       "  <thead>\n",
       "    <tr style=\"text-align: right;\">\n",
       "      <th></th>\n",
       "      <th>ZONA_DEST</th>\n",
       "      <th>ZONA_ORIG</th>\n",
       "      <th>TOT</th>\n",
       "    </tr>\n",
       "  </thead>\n",
       "  <tbody>\n",
       "    <tr>\n",
       "      <th>896</th>\n",
       "      <td>LUINO</td>\n",
       "      <td>GERMIGNAGA</td>\n",
       "      <td>316.03</td>\n",
       "    </tr>\n",
       "    <tr>\n",
       "      <th>938</th>\n",
       "      <td>SVIZZERA</td>\n",
       "      <td>GERMIGNAGA</td>\n",
       "      <td>245.93</td>\n",
       "    </tr>\n",
       "    <tr>\n",
       "      <th>4</th>\n",
       "      <td>VARESE</td>\n",
       "      <td>CITTIGLIO</td>\n",
       "      <td>171.65</td>\n",
       "    </tr>\n",
       "    <tr>\n",
       "      <th>1204</th>\n",
       "      <td>LUINO</td>\n",
       "      <td>MONTEGRINO VALTRAVAGLIA</td>\n",
       "      <td>137.12</td>\n",
       "    </tr>\n",
       "    <tr>\n",
       "      <th>1111</th>\n",
       "      <td>LUINO</td>\n",
       "      <td>MESENZANA</td>\n",
       "      <td>113.78</td>\n",
       "    </tr>\n",
       "    <tr>\n",
       "      <th>1147</th>\n",
       "      <td>SVIZZERA</td>\n",
       "      <td>MESENZANA</td>\n",
       "      <td>102.43</td>\n",
       "    </tr>\n",
       "    <tr>\n",
       "      <th>506</th>\n",
       "      <td>LAVENO MOMBELLO</td>\n",
       "      <td>CITTIGLIO</td>\n",
       "      <td>97.86</td>\n",
       "    </tr>\n",
       "    <tr>\n",
       "      <th>495</th>\n",
       "      <td>GAVIRATE</td>\n",
       "      <td>CITTIGLIO</td>\n",
       "      <td>97.80</td>\n",
       "    </tr>\n",
       "    <tr>\n",
       "      <th>0</th>\n",
       "      <td>VARESE</td>\n",
       "      <td>BEDERO VALCUVIA</td>\n",
       "      <td>95.60</td>\n",
       "    </tr>\n",
       "    <tr>\n",
       "      <th>5</th>\n",
       "      <td>VARESE</td>\n",
       "      <td>CUVIO</td>\n",
       "      <td>92.50</td>\n",
       "    </tr>\n",
       "    <tr>\n",
       "      <th>1242</th>\n",
       "      <td>SVIZZERA</td>\n",
       "      <td>MONTEGRINO VALTRAVAGLIA</td>\n",
       "      <td>88.04</td>\n",
       "    </tr>\n",
       "    <tr>\n",
       "      <th>1013</th>\n",
       "      <td>LUINO</td>\n",
       "      <td>GRANTOLA</td>\n",
       "      <td>84.92</td>\n",
       "    </tr>\n",
       "    <tr>\n",
       "      <th>1</th>\n",
       "      <td>VARESE</td>\n",
       "      <td>BRENTA</td>\n",
       "      <td>82.76</td>\n",
       "    </tr>\n",
       "    <tr>\n",
       "      <th>7</th>\n",
       "      <td>VARESE</td>\n",
       "      <td>GERMIGNAGA</td>\n",
       "      <td>80.18</td>\n",
       "    </tr>\n",
       "    <tr>\n",
       "      <th>11</th>\n",
       "      <td>VARESE</td>\n",
       "      <td>RANCIO VALCUVIA</td>\n",
       "      <td>74.47</td>\n",
       "    </tr>\n",
       "  </tbody>\n",
       "</table>\n",
       "</div>"
      ],
      "text/plain": [
       "            ZONA_DEST                ZONA_ORIG     TOT\n",
       "896             LUINO               GERMIGNAGA  316.03\n",
       "938          SVIZZERA               GERMIGNAGA  245.93\n",
       "4              VARESE                CITTIGLIO  171.65\n",
       "1204            LUINO  MONTEGRINO VALTRAVAGLIA  137.12\n",
       "1111            LUINO                MESENZANA  113.78\n",
       "1147         SVIZZERA                MESENZANA  102.43\n",
       "506   LAVENO MOMBELLO                CITTIGLIO   97.86\n",
       "495          GAVIRATE                CITTIGLIO   97.80\n",
       "0              VARESE          BEDERO VALCUVIA   95.60\n",
       "5              VARESE                    CUVIO   92.50\n",
       "1242         SVIZZERA  MONTEGRINO VALTRAVAGLIA   88.04\n",
       "1013            LUINO                 GRANTOLA   84.92\n",
       "1              VARESE                   BRENTA   82.76\n",
       "7              VARESE               GERMIGNAGA   80.18\n",
       "11             VARESE          RANCIO VALCUVIA   74.47"
      ]
     },
     "execution_count": 21,
     "metadata": {},
     "output_type": "execute_result"
    }
   ],
   "source": [
    "tratte_max.head(15)"
   ]
  },
  {
   "cell_type": "code",
   "execution_count": 22,
   "id": "3038167d",
   "metadata": {},
   "outputs": [],
   "source": [
    "tot=[]\n",
    "for i in range(len(località)):\n",
    "    totale=valcuvia2.loc[valcuvia2['ZONA_DEST'].isin(['MILANO 1','MILANO 2','MILANO 3',\n",
    "      'MILANO 4','MILANO 5','MILANO 6', 'MILANO 7','MILANO 8','MILANO 9','MILANO 10']) & (valcuvia2['ZONA_ORIG']==località[i])].sum()\n",
    "    tot.append(totale['TOT'])"
   ]
  },
  {
   "cell_type": "code",
   "execution_count": 23,
   "id": "4750811f",
   "metadata": {},
   "outputs": [],
   "source": [
    "mil=['MILANO']*12\n",
    "d = {'TOT': tot, 'ZONA_ORIG': località,'ZONA_DEST': mil}\n",
    "df=pd.DataFrame(d)"
   ]
  },
  {
   "cell_type": "code",
   "execution_count": 24,
   "id": "6d2e926f",
   "metadata": {},
   "outputs": [],
   "source": [
    "tratte_max=pd.concat([tratte_max,df])\n",
    "tratte_max=tratte_max.sort_values('TOT',ascending=False)"
   ]
  },
  {
   "cell_type": "code",
   "execution_count": 25,
   "id": "c0a111a3",
   "metadata": {},
   "outputs": [
    {
     "data": {
      "text/html": [
       "<div>\n",
       "<style scoped>\n",
       "    .dataframe tbody tr th:only-of-type {\n",
       "        vertical-align: middle;\n",
       "    }\n",
       "\n",
       "    .dataframe tbody tr th {\n",
       "        vertical-align: top;\n",
       "    }\n",
       "\n",
       "    .dataframe thead th {\n",
       "        text-align: right;\n",
       "    }\n",
       "</style>\n",
       "<table border=\"1\" class=\"dataframe\">\n",
       "  <thead>\n",
       "    <tr style=\"text-align: right;\">\n",
       "      <th></th>\n",
       "      <th>index</th>\n",
       "      <th>ZONA_DEST</th>\n",
       "      <th>ZONA_ORIG</th>\n",
       "      <th>TOT</th>\n",
       "    </tr>\n",
       "  </thead>\n",
       "  <tbody>\n",
       "    <tr>\n",
       "      <th>0</th>\n",
       "      <td>896</td>\n",
       "      <td>LUINO</td>\n",
       "      <td>GERMIGNAGA</td>\n",
       "      <td>316.03</td>\n",
       "    </tr>\n",
       "    <tr>\n",
       "      <th>1</th>\n",
       "      <td>938</td>\n",
       "      <td>SVIZZERA</td>\n",
       "      <td>GERMIGNAGA</td>\n",
       "      <td>245.93</td>\n",
       "    </tr>\n",
       "    <tr>\n",
       "      <th>2</th>\n",
       "      <td>4</td>\n",
       "      <td>VARESE</td>\n",
       "      <td>CITTIGLIO</td>\n",
       "      <td>171.65</td>\n",
       "    </tr>\n",
       "    <tr>\n",
       "      <th>3</th>\n",
       "      <td>1204</td>\n",
       "      <td>LUINO</td>\n",
       "      <td>MONTEGRINO VALTRAVAGLIA</td>\n",
       "      <td>137.12</td>\n",
       "    </tr>\n",
       "    <tr>\n",
       "      <th>4</th>\n",
       "      <td>1111</td>\n",
       "      <td>LUINO</td>\n",
       "      <td>MESENZANA</td>\n",
       "      <td>113.78</td>\n",
       "    </tr>\n",
       "    <tr>\n",
       "      <th>5</th>\n",
       "      <td>1147</td>\n",
       "      <td>SVIZZERA</td>\n",
       "      <td>MESENZANA</td>\n",
       "      <td>102.43</td>\n",
       "    </tr>\n",
       "    <tr>\n",
       "      <th>6</th>\n",
       "      <td>506</td>\n",
       "      <td>LAVENO MOMBELLO</td>\n",
       "      <td>CITTIGLIO</td>\n",
       "      <td>97.86</td>\n",
       "    </tr>\n",
       "    <tr>\n",
       "      <th>7</th>\n",
       "      <td>495</td>\n",
       "      <td>GAVIRATE</td>\n",
       "      <td>CITTIGLIO</td>\n",
       "      <td>97.80</td>\n",
       "    </tr>\n",
       "    <tr>\n",
       "      <th>8</th>\n",
       "      <td>0</td>\n",
       "      <td>VARESE</td>\n",
       "      <td>BEDERO VALCUVIA</td>\n",
       "      <td>95.60</td>\n",
       "    </tr>\n",
       "    <tr>\n",
       "      <th>9</th>\n",
       "      <td>5</td>\n",
       "      <td>VARESE</td>\n",
       "      <td>CUVIO</td>\n",
       "      <td>92.50</td>\n",
       "    </tr>\n",
       "    <tr>\n",
       "      <th>10</th>\n",
       "      <td>1242</td>\n",
       "      <td>SVIZZERA</td>\n",
       "      <td>MONTEGRINO VALTRAVAGLIA</td>\n",
       "      <td>88.04</td>\n",
       "    </tr>\n",
       "    <tr>\n",
       "      <th>11</th>\n",
       "      <td>1013</td>\n",
       "      <td>LUINO</td>\n",
       "      <td>GRANTOLA</td>\n",
       "      <td>84.92</td>\n",
       "    </tr>\n",
       "    <tr>\n",
       "      <th>12</th>\n",
       "      <td>1</td>\n",
       "      <td>VARESE</td>\n",
       "      <td>BRENTA</td>\n",
       "      <td>82.76</td>\n",
       "    </tr>\n",
       "    <tr>\n",
       "      <th>13</th>\n",
       "      <td>4</td>\n",
       "      <td>MILANO</td>\n",
       "      <td>CITTIGLIO</td>\n",
       "      <td>81.59</td>\n",
       "    </tr>\n",
       "    <tr>\n",
       "      <th>14</th>\n",
       "      <td>7</td>\n",
       "      <td>VARESE</td>\n",
       "      <td>GERMIGNAGA</td>\n",
       "      <td>80.18</td>\n",
       "    </tr>\n",
       "  </tbody>\n",
       "</table>\n",
       "</div>"
      ],
      "text/plain": [
       "    index        ZONA_DEST                ZONA_ORIG     TOT\n",
       "0     896            LUINO               GERMIGNAGA  316.03\n",
       "1     938         SVIZZERA               GERMIGNAGA  245.93\n",
       "2       4           VARESE                CITTIGLIO  171.65\n",
       "3    1204            LUINO  MONTEGRINO VALTRAVAGLIA  137.12\n",
       "4    1111            LUINO                MESENZANA  113.78\n",
       "5    1147         SVIZZERA                MESENZANA  102.43\n",
       "6     506  LAVENO MOMBELLO                CITTIGLIO   97.86\n",
       "7     495         GAVIRATE                CITTIGLIO   97.80\n",
       "8       0           VARESE          BEDERO VALCUVIA   95.60\n",
       "9       5           VARESE                    CUVIO   92.50\n",
       "10   1242         SVIZZERA  MONTEGRINO VALTRAVAGLIA   88.04\n",
       "11   1013            LUINO                 GRANTOLA   84.92\n",
       "12      1           VARESE                   BRENTA   82.76\n",
       "13      4           MILANO                CITTIGLIO   81.59\n",
       "14      7           VARESE               GERMIGNAGA   80.18"
      ]
     },
     "execution_count": 25,
     "metadata": {},
     "output_type": "execute_result"
    }
   ],
   "source": [
    "tratte_max.head(15).reset_index()"
   ]
  },
  {
   "cell_type": "code",
   "execution_count": 26,
   "id": "5d52e2a0",
   "metadata": {},
   "outputs": [],
   "source": [
    "lat_orig=[45.993507,45.993507,45.898911,45.973207,45.944943,\n",
    "          45.944943,45.898911,45.898911,45.914271,45.896177,\n",
    "         45.973207,45.949179,45.89318,45.898911,45.993507]\n",
    "long_orig=[8.724158,8.724158,8.660738,8.768819,8.756447,\n",
    "          8.757834,8.660738,8.660738,8.794198,8.734129,\n",
    "          8.768819,8.774329,8.685101,8.660738,8.724158]\n",
    "lat_dest=[45.998908,45.982172,45.818295,45.998908,45.998908,\n",
    "         45.982172,45.911884,45.842826,45.818295,45.818295,\n",
    "          45.982172,45.998908,45.818295,45.464204,45.818295]\n",
    "long_dest=[8.739907,8.885880,8.833517,8.739907,8.739907,\n",
    "           8.885880,8.619172,8.717671,8.833517,8.833517,\n",
    "          8.885880,8.739907,8.833517,9.189982,8.833517]"
   ]
  },
  {
   "cell_type": "code",
   "execution_count": 27,
   "id": "fd050eb6",
   "metadata": {},
   "outputs": [],
   "source": [
    "luino=[lat_dest[0],long_dest[0]]\n",
    "germignaga=[lat_orig[0],long_orig[0]]\n",
    "svizzera=[lat_dest[1],long_dest[1]]\n",
    "montegrino=[lat_orig[3],long_orig[3]]\n",
    "laveno=[lat_dest[6],long_dest[6]]\n",
    "cittiglio=[lat_orig[2],long_orig[2]]\n",
    "mesenzana=[lat_orig[4],long_orig[4]]\n",
    "gavirate=[lat_dest[7],long_dest[7]]\n",
    "varese=[lat_dest[2],long_dest[2]]\n",
    "milano=[45.783207,8.819962]\n",
    "bedero=[lat_orig[8],long_orig[8]]\n",
    "brenta=[lat_orig[12],long_orig[12]]\n",
    "grantola=[lat_orig[11],long_orig[11]]\n",
    "cuvio=[lat_orig[9],long_orig[9]]"
   ]
  },
  {
   "cell_type": "code",
   "execution_count": 28,
   "id": "f6bf8c28",
   "metadata": {},
   "outputs": [],
   "source": [
    "marker_points=[luino,germignaga,svizzera,montegrino,\n",
    "              laveno,cittiglio,mesenzana,gavirate,\n",
    "              varese,milano,bedero,brenta,grantola,cuvio]\n",
    "name=['LUINO','GERMIGAGA','SVIZZERA','MONTEGRINO',\n",
    "              'LAVENO','CITTIGLIO','MESENZANA','GAVIRATE',\n",
    "              'VARESE','MILANO','BEDERO','BRENTA','GRANTOLA','CUVIO']"
   ]
  },
  {
   "cell_type": "code",
   "execution_count": 29,
   "id": "41262e73",
   "metadata": {},
   "outputs": [],
   "source": [
    "points = np.zeros((len(lat_orig),4))\n",
    "for i in range(len(lat_orig)):\n",
    "    points[i]=([lat_orig[i],long_orig[i],lat_dest[i],long_dest[i]])"
   ]
  },
  {
   "cell_type": "code",
   "execution_count": 30,
   "id": "372e20de",
   "metadata": {},
   "outputs": [],
   "source": [
    "line=[]\n",
    "for i in range(len(points)):\n",
    "    line.append([points[i,0:2],points[i,2:4]])"
   ]
  },
  {
   "cell_type": "code",
   "execution_count": 35,
   "id": "125abae8",
   "metadata": {},
   "outputs": [],
   "source": [
    "mappa_tranvia = folium.Map([lat_orig[5],long_orig[5]],tiles = 'cartodbpositron', zoom_start=10)\n",
    "for j in range(len(line)):\n",
    "    folium.PolyLine(line[j],color='yellow').add_to(mappa_tranvia)"
   ]
  },
  {
   "cell_type": "code",
   "execution_count": 36,
   "id": "69e19645",
   "metadata": {},
   "outputs": [],
   "source": [
    "for i in range(0,len(marker_points)):\n",
    "    folium.Marker(location=marker_points[i],\n",
    "    icon=folium.DivIcon(html=f\"\"\"<div style=\"font-family: courier new; color: red\">{[name[i]]}</div>\"\"\")).add_to(mappa_tranvia)"
   ]
  },
  {
   "cell_type": "code",
   "execution_count": 37,
   "id": "d4ec730c",
   "metadata": {},
   "outputs": [
    {
     "data": {
      "text/html": [
       "<div style=\"width:100%;\"><div style=\"position:relative;width:100%;height:0;padding-bottom:60%;\"><span style=\"color:#565656\">Make this Notebook Trusted to load map: File -> Trust Notebook</span><iframe src=\"about:blank\" style=\"position:absolute;width:100%;height:100%;left:0;top:0;border:none !important;\" data-html=%3C%21DOCTYPE%20html%3E%0A%3Chead%3E%20%20%20%20%0A%20%20%20%20%3Cmeta%20http-equiv%3D%22content-type%22%20content%3D%22text/html%3B%20charset%3DUTF-8%22%20/%3E%0A%20%20%20%20%0A%20%20%20%20%20%20%20%20%3Cscript%3E%0A%20%20%20%20%20%20%20%20%20%20%20%20L_NO_TOUCH%20%3D%20false%3B%0A%20%20%20%20%20%20%20%20%20%20%20%20L_DISABLE_3D%20%3D%20false%3B%0A%20%20%20%20%20%20%20%20%3C/script%3E%0A%20%20%20%20%0A%20%20%20%20%3Cstyle%3Ehtml%2C%20body%20%7Bwidth%3A%20100%25%3Bheight%3A%20100%25%3Bmargin%3A%200%3Bpadding%3A%200%3B%7D%3C/style%3E%0A%20%20%20%20%3Cstyle%3E%23map%20%7Bposition%3Aabsolute%3Btop%3A0%3Bbottom%3A0%3Bright%3A0%3Bleft%3A0%3B%7D%3C/style%3E%0A%20%20%20%20%3Cscript%20src%3D%22https%3A//cdn.jsdelivr.net/npm/leaflet%401.6.0/dist/leaflet.js%22%3E%3C/script%3E%0A%20%20%20%20%3Cscript%20src%3D%22https%3A//code.jquery.com/jquery-1.12.4.min.js%22%3E%3C/script%3E%0A%20%20%20%20%3Cscript%20src%3D%22https%3A//maxcdn.bootstrapcdn.com/bootstrap/3.2.0/js/bootstrap.min.js%22%3E%3C/script%3E%0A%20%20%20%20%3Cscript%20src%3D%22https%3A//cdnjs.cloudflare.com/ajax/libs/Leaflet.awesome-markers/2.0.2/leaflet.awesome-markers.js%22%3E%3C/script%3E%0A%20%20%20%20%3Clink%20rel%3D%22stylesheet%22%20href%3D%22https%3A//cdn.jsdelivr.net/npm/leaflet%401.6.0/dist/leaflet.css%22/%3E%0A%20%20%20%20%3Clink%20rel%3D%22stylesheet%22%20href%3D%22https%3A//maxcdn.bootstrapcdn.com/bootstrap/3.2.0/css/bootstrap.min.css%22/%3E%0A%20%20%20%20%3Clink%20rel%3D%22stylesheet%22%20href%3D%22https%3A//maxcdn.bootstrapcdn.com/bootstrap/3.2.0/css/bootstrap-theme.min.css%22/%3E%0A%20%20%20%20%3Clink%20rel%3D%22stylesheet%22%20href%3D%22https%3A//maxcdn.bootstrapcdn.com/font-awesome/4.6.3/css/font-awesome.min.css%22/%3E%0A%20%20%20%20%3Clink%20rel%3D%22stylesheet%22%20href%3D%22https%3A//cdnjs.cloudflare.com/ajax/libs/Leaflet.awesome-markers/2.0.2/leaflet.awesome-markers.css%22/%3E%0A%20%20%20%20%3Clink%20rel%3D%22stylesheet%22%20href%3D%22https%3A//cdn.jsdelivr.net/gh/python-visualization/folium/folium/templates/leaflet.awesome.rotate.min.css%22/%3E%0A%20%20%20%20%0A%20%20%20%20%20%20%20%20%20%20%20%20%3Cmeta%20name%3D%22viewport%22%20content%3D%22width%3Ddevice-width%2C%0A%20%20%20%20%20%20%20%20%20%20%20%20%20%20%20%20initial-scale%3D1.0%2C%20maximum-scale%3D1.0%2C%20user-scalable%3Dno%22%20/%3E%0A%20%20%20%20%20%20%20%20%20%20%20%20%3Cstyle%3E%0A%20%20%20%20%20%20%20%20%20%20%20%20%20%20%20%20%23map_0bb1b1f9e3b8402c9e3158d072143b15%20%7B%0A%20%20%20%20%20%20%20%20%20%20%20%20%20%20%20%20%20%20%20%20position%3A%20relative%3B%0A%20%20%20%20%20%20%20%20%20%20%20%20%20%20%20%20%20%20%20%20width%3A%20100.0%25%3B%0A%20%20%20%20%20%20%20%20%20%20%20%20%20%20%20%20%20%20%20%20height%3A%20100.0%25%3B%0A%20%20%20%20%20%20%20%20%20%20%20%20%20%20%20%20%20%20%20%20left%3A%200.0%25%3B%0A%20%20%20%20%20%20%20%20%20%20%20%20%20%20%20%20%20%20%20%20top%3A%200.0%25%3B%0A%20%20%20%20%20%20%20%20%20%20%20%20%20%20%20%20%7D%0A%20%20%20%20%20%20%20%20%20%20%20%20%3C/style%3E%0A%20%20%20%20%20%20%20%20%0A%3C/head%3E%0A%3Cbody%3E%20%20%20%20%0A%20%20%20%20%0A%20%20%20%20%20%20%20%20%20%20%20%20%3Cdiv%20class%3D%22folium-map%22%20id%3D%22map_0bb1b1f9e3b8402c9e3158d072143b15%22%20%3E%3C/div%3E%0A%20%20%20%20%20%20%20%20%0A%3C/body%3E%0A%3Cscript%3E%20%20%20%20%0A%20%20%20%20%0A%20%20%20%20%20%20%20%20%20%20%20%20var%20map_0bb1b1f9e3b8402c9e3158d072143b15%20%3D%20L.map%28%0A%20%20%20%20%20%20%20%20%20%20%20%20%20%20%20%20%22map_0bb1b1f9e3b8402c9e3158d072143b15%22%2C%0A%20%20%20%20%20%20%20%20%20%20%20%20%20%20%20%20%7B%0A%20%20%20%20%20%20%20%20%20%20%20%20%20%20%20%20%20%20%20%20center%3A%20%5B45.944943%2C%208.757834%5D%2C%0A%20%20%20%20%20%20%20%20%20%20%20%20%20%20%20%20%20%20%20%20crs%3A%20L.CRS.EPSG3857%2C%0A%20%20%20%20%20%20%20%20%20%20%20%20%20%20%20%20%20%20%20%20zoom%3A%2010%2C%0A%20%20%20%20%20%20%20%20%20%20%20%20%20%20%20%20%20%20%20%20zoomControl%3A%20true%2C%0A%20%20%20%20%20%20%20%20%20%20%20%20%20%20%20%20%20%20%20%20preferCanvas%3A%20false%2C%0A%20%20%20%20%20%20%20%20%20%20%20%20%20%20%20%20%7D%0A%20%20%20%20%20%20%20%20%20%20%20%20%29%3B%0A%0A%20%20%20%20%20%20%20%20%20%20%20%20%0A%0A%20%20%20%20%20%20%20%20%0A%20%20%20%20%0A%20%20%20%20%20%20%20%20%20%20%20%20var%20tile_layer_2cc77ba373a4492983f577bef300ad7c%20%3D%20L.tileLayer%28%0A%20%20%20%20%20%20%20%20%20%20%20%20%20%20%20%20%22https%3A//cartodb-basemaps-%7Bs%7D.global.ssl.fastly.net/light_all/%7Bz%7D/%7Bx%7D/%7By%7D.png%22%2C%0A%20%20%20%20%20%20%20%20%20%20%20%20%20%20%20%20%7B%22attribution%22%3A%20%22%5Cu0026copy%3B%20%5Cu003ca%20href%3D%5C%22http%3A//www.openstreetmap.org/copyright%5C%22%5Cu003eOpenStreetMap%5Cu003c/a%5Cu003e%20contributors%20%5Cu0026copy%3B%20%5Cu003ca%20href%3D%5C%22http%3A//cartodb.com/attributions%5C%22%5Cu003eCartoDB%5Cu003c/a%5Cu003e%2C%20CartoDB%20%5Cu003ca%20href%20%3D%5C%22http%3A//cartodb.com/attributions%5C%22%5Cu003eattributions%5Cu003c/a%5Cu003e%22%2C%20%22detectRetina%22%3A%20false%2C%20%22maxNativeZoom%22%3A%2018%2C%20%22maxZoom%22%3A%2018%2C%20%22minZoom%22%3A%200%2C%20%22noWrap%22%3A%20false%2C%20%22opacity%22%3A%201%2C%20%22subdomains%22%3A%20%22abc%22%2C%20%22tms%22%3A%20false%7D%0A%20%20%20%20%20%20%20%20%20%20%20%20%29.addTo%28map_0bb1b1f9e3b8402c9e3158d072143b15%29%3B%0A%20%20%20%20%20%20%20%20%0A%20%20%20%20%0A%20%20%20%20%20%20%20%20%20%20%20%20var%20poly_line_2a00df25ff47411e87df96377b37b4e0%20%3D%20L.polyline%28%0A%20%20%20%20%20%20%20%20%20%20%20%20%20%20%20%20%5B%5B45.993507%2C%208.724158%5D%2C%20%5B45.998908%2C%208.739907%5D%5D%2C%0A%20%20%20%20%20%20%20%20%20%20%20%20%20%20%20%20%7B%22bubblingMouseEvents%22%3A%20true%2C%20%22color%22%3A%20%22yellow%22%2C%20%22dashArray%22%3A%20null%2C%20%22dashOffset%22%3A%20null%2C%20%22fill%22%3A%20false%2C%20%22fillColor%22%3A%20%22yellow%22%2C%20%22fillOpacity%22%3A%200.2%2C%20%22fillRule%22%3A%20%22evenodd%22%2C%20%22lineCap%22%3A%20%22round%22%2C%20%22lineJoin%22%3A%20%22round%22%2C%20%22noClip%22%3A%20false%2C%20%22opacity%22%3A%201.0%2C%20%22smoothFactor%22%3A%201.0%2C%20%22stroke%22%3A%20true%2C%20%22weight%22%3A%203%7D%0A%20%20%20%20%20%20%20%20%20%20%20%20%29.addTo%28map_0bb1b1f9e3b8402c9e3158d072143b15%29%3B%0A%20%20%20%20%20%20%20%20%0A%20%20%20%20%0A%20%20%20%20%20%20%20%20%20%20%20%20var%20poly_line_c9a77d7aa1f0437598c1ed31757d2463%20%3D%20L.polyline%28%0A%20%20%20%20%20%20%20%20%20%20%20%20%20%20%20%20%5B%5B45.993507%2C%208.724158%5D%2C%20%5B45.982172%2C%208.88588%5D%5D%2C%0A%20%20%20%20%20%20%20%20%20%20%20%20%20%20%20%20%7B%22bubblingMouseEvents%22%3A%20true%2C%20%22color%22%3A%20%22yellow%22%2C%20%22dashArray%22%3A%20null%2C%20%22dashOffset%22%3A%20null%2C%20%22fill%22%3A%20false%2C%20%22fillColor%22%3A%20%22yellow%22%2C%20%22fillOpacity%22%3A%200.2%2C%20%22fillRule%22%3A%20%22evenodd%22%2C%20%22lineCap%22%3A%20%22round%22%2C%20%22lineJoin%22%3A%20%22round%22%2C%20%22noClip%22%3A%20false%2C%20%22opacity%22%3A%201.0%2C%20%22smoothFactor%22%3A%201.0%2C%20%22stroke%22%3A%20true%2C%20%22weight%22%3A%203%7D%0A%20%20%20%20%20%20%20%20%20%20%20%20%29.addTo%28map_0bb1b1f9e3b8402c9e3158d072143b15%29%3B%0A%20%20%20%20%20%20%20%20%0A%20%20%20%20%0A%20%20%20%20%20%20%20%20%20%20%20%20var%20poly_line_a214516976d24127a4f819e057dfc18f%20%3D%20L.polyline%28%0A%20%20%20%20%20%20%20%20%20%20%20%20%20%20%20%20%5B%5B45.898911%2C%208.660738%5D%2C%20%5B45.818295%2C%208.833517%5D%5D%2C%0A%20%20%20%20%20%20%20%20%20%20%20%20%20%20%20%20%7B%22bubblingMouseEvents%22%3A%20true%2C%20%22color%22%3A%20%22yellow%22%2C%20%22dashArray%22%3A%20null%2C%20%22dashOffset%22%3A%20null%2C%20%22fill%22%3A%20false%2C%20%22fillColor%22%3A%20%22yellow%22%2C%20%22fillOpacity%22%3A%200.2%2C%20%22fillRule%22%3A%20%22evenodd%22%2C%20%22lineCap%22%3A%20%22round%22%2C%20%22lineJoin%22%3A%20%22round%22%2C%20%22noClip%22%3A%20false%2C%20%22opacity%22%3A%201.0%2C%20%22smoothFactor%22%3A%201.0%2C%20%22stroke%22%3A%20true%2C%20%22weight%22%3A%203%7D%0A%20%20%20%20%20%20%20%20%20%20%20%20%29.addTo%28map_0bb1b1f9e3b8402c9e3158d072143b15%29%3B%0A%20%20%20%20%20%20%20%20%0A%20%20%20%20%0A%20%20%20%20%20%20%20%20%20%20%20%20var%20poly_line_82e7e6a0ec5b405fbd6b8f028263cfc7%20%3D%20L.polyline%28%0A%20%20%20%20%20%20%20%20%20%20%20%20%20%20%20%20%5B%5B45.973207%2C%208.768819%5D%2C%20%5B45.998908%2C%208.739907%5D%5D%2C%0A%20%20%20%20%20%20%20%20%20%20%20%20%20%20%20%20%7B%22bubblingMouseEvents%22%3A%20true%2C%20%22color%22%3A%20%22yellow%22%2C%20%22dashArray%22%3A%20null%2C%20%22dashOffset%22%3A%20null%2C%20%22fill%22%3A%20false%2C%20%22fillColor%22%3A%20%22yellow%22%2C%20%22fillOpacity%22%3A%200.2%2C%20%22fillRule%22%3A%20%22evenodd%22%2C%20%22lineCap%22%3A%20%22round%22%2C%20%22lineJoin%22%3A%20%22round%22%2C%20%22noClip%22%3A%20false%2C%20%22opacity%22%3A%201.0%2C%20%22smoothFactor%22%3A%201.0%2C%20%22stroke%22%3A%20true%2C%20%22weight%22%3A%203%7D%0A%20%20%20%20%20%20%20%20%20%20%20%20%29.addTo%28map_0bb1b1f9e3b8402c9e3158d072143b15%29%3B%0A%20%20%20%20%20%20%20%20%0A%20%20%20%20%0A%20%20%20%20%20%20%20%20%20%20%20%20var%20poly_line_2da40ea7bedd4a89923427684329e01b%20%3D%20L.polyline%28%0A%20%20%20%20%20%20%20%20%20%20%20%20%20%20%20%20%5B%5B45.944943%2C%208.756447%5D%2C%20%5B45.998908%2C%208.739907%5D%5D%2C%0A%20%20%20%20%20%20%20%20%20%20%20%20%20%20%20%20%7B%22bubblingMouseEvents%22%3A%20true%2C%20%22color%22%3A%20%22yellow%22%2C%20%22dashArray%22%3A%20null%2C%20%22dashOffset%22%3A%20null%2C%20%22fill%22%3A%20false%2C%20%22fillColor%22%3A%20%22yellow%22%2C%20%22fillOpacity%22%3A%200.2%2C%20%22fillRule%22%3A%20%22evenodd%22%2C%20%22lineCap%22%3A%20%22round%22%2C%20%22lineJoin%22%3A%20%22round%22%2C%20%22noClip%22%3A%20false%2C%20%22opacity%22%3A%201.0%2C%20%22smoothFactor%22%3A%201.0%2C%20%22stroke%22%3A%20true%2C%20%22weight%22%3A%203%7D%0A%20%20%20%20%20%20%20%20%20%20%20%20%29.addTo%28map_0bb1b1f9e3b8402c9e3158d072143b15%29%3B%0A%20%20%20%20%20%20%20%20%0A%20%20%20%20%0A%20%20%20%20%20%20%20%20%20%20%20%20var%20poly_line_5c2c57ea1fe04f30878366c968ba5b7e%20%3D%20L.polyline%28%0A%20%20%20%20%20%20%20%20%20%20%20%20%20%20%20%20%5B%5B45.944943%2C%208.757834%5D%2C%20%5B45.982172%2C%208.88588%5D%5D%2C%0A%20%20%20%20%20%20%20%20%20%20%20%20%20%20%20%20%7B%22bubblingMouseEvents%22%3A%20true%2C%20%22color%22%3A%20%22yellow%22%2C%20%22dashArray%22%3A%20null%2C%20%22dashOffset%22%3A%20null%2C%20%22fill%22%3A%20false%2C%20%22fillColor%22%3A%20%22yellow%22%2C%20%22fillOpacity%22%3A%200.2%2C%20%22fillRule%22%3A%20%22evenodd%22%2C%20%22lineCap%22%3A%20%22round%22%2C%20%22lineJoin%22%3A%20%22round%22%2C%20%22noClip%22%3A%20false%2C%20%22opacity%22%3A%201.0%2C%20%22smoothFactor%22%3A%201.0%2C%20%22stroke%22%3A%20true%2C%20%22weight%22%3A%203%7D%0A%20%20%20%20%20%20%20%20%20%20%20%20%29.addTo%28map_0bb1b1f9e3b8402c9e3158d072143b15%29%3B%0A%20%20%20%20%20%20%20%20%0A%20%20%20%20%0A%20%20%20%20%20%20%20%20%20%20%20%20var%20poly_line_451b6886ab634e4c8651a95887284857%20%3D%20L.polyline%28%0A%20%20%20%20%20%20%20%20%20%20%20%20%20%20%20%20%5B%5B45.898911%2C%208.660738%5D%2C%20%5B45.911884%2C%208.619172%5D%5D%2C%0A%20%20%20%20%20%20%20%20%20%20%20%20%20%20%20%20%7B%22bubblingMouseEvents%22%3A%20true%2C%20%22color%22%3A%20%22yellow%22%2C%20%22dashArray%22%3A%20null%2C%20%22dashOffset%22%3A%20null%2C%20%22fill%22%3A%20false%2C%20%22fillColor%22%3A%20%22yellow%22%2C%20%22fillOpacity%22%3A%200.2%2C%20%22fillRule%22%3A%20%22evenodd%22%2C%20%22lineCap%22%3A%20%22round%22%2C%20%22lineJoin%22%3A%20%22round%22%2C%20%22noClip%22%3A%20false%2C%20%22opacity%22%3A%201.0%2C%20%22smoothFactor%22%3A%201.0%2C%20%22stroke%22%3A%20true%2C%20%22weight%22%3A%203%7D%0A%20%20%20%20%20%20%20%20%20%20%20%20%29.addTo%28map_0bb1b1f9e3b8402c9e3158d072143b15%29%3B%0A%20%20%20%20%20%20%20%20%0A%20%20%20%20%0A%20%20%20%20%20%20%20%20%20%20%20%20var%20poly_line_481aec3f03384113b4b535cbe9299706%20%3D%20L.polyline%28%0A%20%20%20%20%20%20%20%20%20%20%20%20%20%20%20%20%5B%5B45.898911%2C%208.660738%5D%2C%20%5B45.842826%2C%208.717671%5D%5D%2C%0A%20%20%20%20%20%20%20%20%20%20%20%20%20%20%20%20%7B%22bubblingMouseEvents%22%3A%20true%2C%20%22color%22%3A%20%22yellow%22%2C%20%22dashArray%22%3A%20null%2C%20%22dashOffset%22%3A%20null%2C%20%22fill%22%3A%20false%2C%20%22fillColor%22%3A%20%22yellow%22%2C%20%22fillOpacity%22%3A%200.2%2C%20%22fillRule%22%3A%20%22evenodd%22%2C%20%22lineCap%22%3A%20%22round%22%2C%20%22lineJoin%22%3A%20%22round%22%2C%20%22noClip%22%3A%20false%2C%20%22opacity%22%3A%201.0%2C%20%22smoothFactor%22%3A%201.0%2C%20%22stroke%22%3A%20true%2C%20%22weight%22%3A%203%7D%0A%20%20%20%20%20%20%20%20%20%20%20%20%29.addTo%28map_0bb1b1f9e3b8402c9e3158d072143b15%29%3B%0A%20%20%20%20%20%20%20%20%0A%20%20%20%20%0A%20%20%20%20%20%20%20%20%20%20%20%20var%20poly_line_5d1c666ec48c4abe83d6f335e2b3b6cb%20%3D%20L.polyline%28%0A%20%20%20%20%20%20%20%20%20%20%20%20%20%20%20%20%5B%5B45.914271%2C%208.794198%5D%2C%20%5B45.818295%2C%208.833517%5D%5D%2C%0A%20%20%20%20%20%20%20%20%20%20%20%20%20%20%20%20%7B%22bubblingMouseEvents%22%3A%20true%2C%20%22color%22%3A%20%22yellow%22%2C%20%22dashArray%22%3A%20null%2C%20%22dashOffset%22%3A%20null%2C%20%22fill%22%3A%20false%2C%20%22fillColor%22%3A%20%22yellow%22%2C%20%22fillOpacity%22%3A%200.2%2C%20%22fillRule%22%3A%20%22evenodd%22%2C%20%22lineCap%22%3A%20%22round%22%2C%20%22lineJoin%22%3A%20%22round%22%2C%20%22noClip%22%3A%20false%2C%20%22opacity%22%3A%201.0%2C%20%22smoothFactor%22%3A%201.0%2C%20%22stroke%22%3A%20true%2C%20%22weight%22%3A%203%7D%0A%20%20%20%20%20%20%20%20%20%20%20%20%29.addTo%28map_0bb1b1f9e3b8402c9e3158d072143b15%29%3B%0A%20%20%20%20%20%20%20%20%0A%20%20%20%20%0A%20%20%20%20%20%20%20%20%20%20%20%20var%20poly_line_33928ed073bb460b9fadec5e6eb23f70%20%3D%20L.polyline%28%0A%20%20%20%20%20%20%20%20%20%20%20%20%20%20%20%20%5B%5B45.896177%2C%208.734129%5D%2C%20%5B45.818295%2C%208.833517%5D%5D%2C%0A%20%20%20%20%20%20%20%20%20%20%20%20%20%20%20%20%7B%22bubblingMouseEvents%22%3A%20true%2C%20%22color%22%3A%20%22yellow%22%2C%20%22dashArray%22%3A%20null%2C%20%22dashOffset%22%3A%20null%2C%20%22fill%22%3A%20false%2C%20%22fillColor%22%3A%20%22yellow%22%2C%20%22fillOpacity%22%3A%200.2%2C%20%22fillRule%22%3A%20%22evenodd%22%2C%20%22lineCap%22%3A%20%22round%22%2C%20%22lineJoin%22%3A%20%22round%22%2C%20%22noClip%22%3A%20false%2C%20%22opacity%22%3A%201.0%2C%20%22smoothFactor%22%3A%201.0%2C%20%22stroke%22%3A%20true%2C%20%22weight%22%3A%203%7D%0A%20%20%20%20%20%20%20%20%20%20%20%20%29.addTo%28map_0bb1b1f9e3b8402c9e3158d072143b15%29%3B%0A%20%20%20%20%20%20%20%20%0A%20%20%20%20%0A%20%20%20%20%20%20%20%20%20%20%20%20var%20poly_line_92fec1d8d3f84af39416384528127d7f%20%3D%20L.polyline%28%0A%20%20%20%20%20%20%20%20%20%20%20%20%20%20%20%20%5B%5B45.973207%2C%208.768819%5D%2C%20%5B45.982172%2C%208.88588%5D%5D%2C%0A%20%20%20%20%20%20%20%20%20%20%20%20%20%20%20%20%7B%22bubblingMouseEvents%22%3A%20true%2C%20%22color%22%3A%20%22yellow%22%2C%20%22dashArray%22%3A%20null%2C%20%22dashOffset%22%3A%20null%2C%20%22fill%22%3A%20false%2C%20%22fillColor%22%3A%20%22yellow%22%2C%20%22fillOpacity%22%3A%200.2%2C%20%22fillRule%22%3A%20%22evenodd%22%2C%20%22lineCap%22%3A%20%22round%22%2C%20%22lineJoin%22%3A%20%22round%22%2C%20%22noClip%22%3A%20false%2C%20%22opacity%22%3A%201.0%2C%20%22smoothFactor%22%3A%201.0%2C%20%22stroke%22%3A%20true%2C%20%22weight%22%3A%203%7D%0A%20%20%20%20%20%20%20%20%20%20%20%20%29.addTo%28map_0bb1b1f9e3b8402c9e3158d072143b15%29%3B%0A%20%20%20%20%20%20%20%20%0A%20%20%20%20%0A%20%20%20%20%20%20%20%20%20%20%20%20var%20poly_line_7e2981a0896942b4b7c6133c3a9c3d94%20%3D%20L.polyline%28%0A%20%20%20%20%20%20%20%20%20%20%20%20%20%20%20%20%5B%5B45.949179%2C%208.774329%5D%2C%20%5B45.998908%2C%208.739907%5D%5D%2C%0A%20%20%20%20%20%20%20%20%20%20%20%20%20%20%20%20%7B%22bubblingMouseEvents%22%3A%20true%2C%20%22color%22%3A%20%22yellow%22%2C%20%22dashArray%22%3A%20null%2C%20%22dashOffset%22%3A%20null%2C%20%22fill%22%3A%20false%2C%20%22fillColor%22%3A%20%22yellow%22%2C%20%22fillOpacity%22%3A%200.2%2C%20%22fillRule%22%3A%20%22evenodd%22%2C%20%22lineCap%22%3A%20%22round%22%2C%20%22lineJoin%22%3A%20%22round%22%2C%20%22noClip%22%3A%20false%2C%20%22opacity%22%3A%201.0%2C%20%22smoothFactor%22%3A%201.0%2C%20%22stroke%22%3A%20true%2C%20%22weight%22%3A%203%7D%0A%20%20%20%20%20%20%20%20%20%20%20%20%29.addTo%28map_0bb1b1f9e3b8402c9e3158d072143b15%29%3B%0A%20%20%20%20%20%20%20%20%0A%20%20%20%20%0A%20%20%20%20%20%20%20%20%20%20%20%20var%20poly_line_dc16fad4d88e4664a07aba079ba13941%20%3D%20L.polyline%28%0A%20%20%20%20%20%20%20%20%20%20%20%20%20%20%20%20%5B%5B45.89318%2C%208.685101%5D%2C%20%5B45.818295%2C%208.833517%5D%5D%2C%0A%20%20%20%20%20%20%20%20%20%20%20%20%20%20%20%20%7B%22bubblingMouseEvents%22%3A%20true%2C%20%22color%22%3A%20%22yellow%22%2C%20%22dashArray%22%3A%20null%2C%20%22dashOffset%22%3A%20null%2C%20%22fill%22%3A%20false%2C%20%22fillColor%22%3A%20%22yellow%22%2C%20%22fillOpacity%22%3A%200.2%2C%20%22fillRule%22%3A%20%22evenodd%22%2C%20%22lineCap%22%3A%20%22round%22%2C%20%22lineJoin%22%3A%20%22round%22%2C%20%22noClip%22%3A%20false%2C%20%22opacity%22%3A%201.0%2C%20%22smoothFactor%22%3A%201.0%2C%20%22stroke%22%3A%20true%2C%20%22weight%22%3A%203%7D%0A%20%20%20%20%20%20%20%20%20%20%20%20%29.addTo%28map_0bb1b1f9e3b8402c9e3158d072143b15%29%3B%0A%20%20%20%20%20%20%20%20%0A%20%20%20%20%0A%20%20%20%20%20%20%20%20%20%20%20%20var%20poly_line_f691c78ff5c2431ca166bc3249f64297%20%3D%20L.polyline%28%0A%20%20%20%20%20%20%20%20%20%20%20%20%20%20%20%20%5B%5B45.898911%2C%208.660738%5D%2C%20%5B45.464204%2C%209.189982%5D%5D%2C%0A%20%20%20%20%20%20%20%20%20%20%20%20%20%20%20%20%7B%22bubblingMouseEvents%22%3A%20true%2C%20%22color%22%3A%20%22yellow%22%2C%20%22dashArray%22%3A%20null%2C%20%22dashOffset%22%3A%20null%2C%20%22fill%22%3A%20false%2C%20%22fillColor%22%3A%20%22yellow%22%2C%20%22fillOpacity%22%3A%200.2%2C%20%22fillRule%22%3A%20%22evenodd%22%2C%20%22lineCap%22%3A%20%22round%22%2C%20%22lineJoin%22%3A%20%22round%22%2C%20%22noClip%22%3A%20false%2C%20%22opacity%22%3A%201.0%2C%20%22smoothFactor%22%3A%201.0%2C%20%22stroke%22%3A%20true%2C%20%22weight%22%3A%203%7D%0A%20%20%20%20%20%20%20%20%20%20%20%20%29.addTo%28map_0bb1b1f9e3b8402c9e3158d072143b15%29%3B%0A%20%20%20%20%20%20%20%20%0A%20%20%20%20%0A%20%20%20%20%20%20%20%20%20%20%20%20var%20poly_line_a8ec6d8213984c10bd848dd956162a35%20%3D%20L.polyline%28%0A%20%20%20%20%20%20%20%20%20%20%20%20%20%20%20%20%5B%5B45.993507%2C%208.724158%5D%2C%20%5B45.818295%2C%208.833517%5D%5D%2C%0A%20%20%20%20%20%20%20%20%20%20%20%20%20%20%20%20%7B%22bubblingMouseEvents%22%3A%20true%2C%20%22color%22%3A%20%22yellow%22%2C%20%22dashArray%22%3A%20null%2C%20%22dashOffset%22%3A%20null%2C%20%22fill%22%3A%20false%2C%20%22fillColor%22%3A%20%22yellow%22%2C%20%22fillOpacity%22%3A%200.2%2C%20%22fillRule%22%3A%20%22evenodd%22%2C%20%22lineCap%22%3A%20%22round%22%2C%20%22lineJoin%22%3A%20%22round%22%2C%20%22noClip%22%3A%20false%2C%20%22opacity%22%3A%201.0%2C%20%22smoothFactor%22%3A%201.0%2C%20%22stroke%22%3A%20true%2C%20%22weight%22%3A%203%7D%0A%20%20%20%20%20%20%20%20%20%20%20%20%29.addTo%28map_0bb1b1f9e3b8402c9e3158d072143b15%29%3B%0A%20%20%20%20%20%20%20%20%0A%20%20%20%20%0A%20%20%20%20%20%20%20%20%20%20%20%20var%20marker_411b191e52be4814a128436ed43919fe%20%3D%20L.marker%28%0A%20%20%20%20%20%20%20%20%20%20%20%20%20%20%20%20%5B45.998908%2C%208.739907%5D%2C%0A%20%20%20%20%20%20%20%20%20%20%20%20%20%20%20%20%7B%7D%0A%20%20%20%20%20%20%20%20%20%20%20%20%29.addTo%28map_0bb1b1f9e3b8402c9e3158d072143b15%29%3B%0A%20%20%20%20%20%20%20%20%0A%20%20%20%20%0A%20%20%20%20%20%20%20%20%20%20%20%20var%20div_icon_612d31b8b84b44aa9e80850009296db5%20%3D%20L.divIcon%28%7B%22className%22%3A%20%22empty%22%2C%20%22html%22%3A%20%22%5Cu003cdiv%20style%3D%5C%22font-family%3A%20courier%20new%3B%20color%3A%20red%5C%22%5Cu003e%5B%5Cu0027LUINO%5Cu0027%5D%5Cu003c/div%5Cu003e%22%7D%29%3B%0A%20%20%20%20%20%20%20%20%20%20%20%20marker_411b191e52be4814a128436ed43919fe.setIcon%28div_icon_612d31b8b84b44aa9e80850009296db5%29%3B%0A%20%20%20%20%20%20%20%20%0A%20%20%20%20%0A%20%20%20%20%20%20%20%20%20%20%20%20var%20marker_e69df75191b14f29844cb007cb01bd45%20%3D%20L.marker%28%0A%20%20%20%20%20%20%20%20%20%20%20%20%20%20%20%20%5B45.993507%2C%208.724158%5D%2C%0A%20%20%20%20%20%20%20%20%20%20%20%20%20%20%20%20%7B%7D%0A%20%20%20%20%20%20%20%20%20%20%20%20%29.addTo%28map_0bb1b1f9e3b8402c9e3158d072143b15%29%3B%0A%20%20%20%20%20%20%20%20%0A%20%20%20%20%0A%20%20%20%20%20%20%20%20%20%20%20%20var%20div_icon_72f00fdce4704422b23377c80d4a8db0%20%3D%20L.divIcon%28%7B%22className%22%3A%20%22empty%22%2C%20%22html%22%3A%20%22%5Cu003cdiv%20style%3D%5C%22font-family%3A%20courier%20new%3B%20color%3A%20red%5C%22%5Cu003e%5B%5Cu0027GERMIGAGA%5Cu0027%5D%5Cu003c/div%5Cu003e%22%7D%29%3B%0A%20%20%20%20%20%20%20%20%20%20%20%20marker_e69df75191b14f29844cb007cb01bd45.setIcon%28div_icon_72f00fdce4704422b23377c80d4a8db0%29%3B%0A%20%20%20%20%20%20%20%20%0A%20%20%20%20%0A%20%20%20%20%20%20%20%20%20%20%20%20var%20marker_db02d03b7d394f7fa569fa8e896f5bd6%20%3D%20L.marker%28%0A%20%20%20%20%20%20%20%20%20%20%20%20%20%20%20%20%5B45.982172%2C%208.88588%5D%2C%0A%20%20%20%20%20%20%20%20%20%20%20%20%20%20%20%20%7B%7D%0A%20%20%20%20%20%20%20%20%20%20%20%20%29.addTo%28map_0bb1b1f9e3b8402c9e3158d072143b15%29%3B%0A%20%20%20%20%20%20%20%20%0A%20%20%20%20%0A%20%20%20%20%20%20%20%20%20%20%20%20var%20div_icon_f06437d0c94d468dab2e296bc1a9a90b%20%3D%20L.divIcon%28%7B%22className%22%3A%20%22empty%22%2C%20%22html%22%3A%20%22%5Cu003cdiv%20style%3D%5C%22font-family%3A%20courier%20new%3B%20color%3A%20red%5C%22%5Cu003e%5B%5Cu0027SVIZZERA%5Cu0027%5D%5Cu003c/div%5Cu003e%22%7D%29%3B%0A%20%20%20%20%20%20%20%20%20%20%20%20marker_db02d03b7d394f7fa569fa8e896f5bd6.setIcon%28div_icon_f06437d0c94d468dab2e296bc1a9a90b%29%3B%0A%20%20%20%20%20%20%20%20%0A%20%20%20%20%0A%20%20%20%20%20%20%20%20%20%20%20%20var%20marker_5529012d81704dd29fdbf7be9b1a409d%20%3D%20L.marker%28%0A%20%20%20%20%20%20%20%20%20%20%20%20%20%20%20%20%5B45.973207%2C%208.768819%5D%2C%0A%20%20%20%20%20%20%20%20%20%20%20%20%20%20%20%20%7B%7D%0A%20%20%20%20%20%20%20%20%20%20%20%20%29.addTo%28map_0bb1b1f9e3b8402c9e3158d072143b15%29%3B%0A%20%20%20%20%20%20%20%20%0A%20%20%20%20%0A%20%20%20%20%20%20%20%20%20%20%20%20var%20div_icon_fddfaaa84a7345618593a980482358a9%20%3D%20L.divIcon%28%7B%22className%22%3A%20%22empty%22%2C%20%22html%22%3A%20%22%5Cu003cdiv%20style%3D%5C%22font-family%3A%20courier%20new%3B%20color%3A%20red%5C%22%5Cu003e%5B%5Cu0027MONTEGRINO%5Cu0027%5D%5Cu003c/div%5Cu003e%22%7D%29%3B%0A%20%20%20%20%20%20%20%20%20%20%20%20marker_5529012d81704dd29fdbf7be9b1a409d.setIcon%28div_icon_fddfaaa84a7345618593a980482358a9%29%3B%0A%20%20%20%20%20%20%20%20%0A%20%20%20%20%0A%20%20%20%20%20%20%20%20%20%20%20%20var%20marker_ca5a9a2fa215439c854b783922fef4aa%20%3D%20L.marker%28%0A%20%20%20%20%20%20%20%20%20%20%20%20%20%20%20%20%5B45.911884%2C%208.619172%5D%2C%0A%20%20%20%20%20%20%20%20%20%20%20%20%20%20%20%20%7B%7D%0A%20%20%20%20%20%20%20%20%20%20%20%20%29.addTo%28map_0bb1b1f9e3b8402c9e3158d072143b15%29%3B%0A%20%20%20%20%20%20%20%20%0A%20%20%20%20%0A%20%20%20%20%20%20%20%20%20%20%20%20var%20div_icon_c05312c26c064e4a95c2eefa43c2bf55%20%3D%20L.divIcon%28%7B%22className%22%3A%20%22empty%22%2C%20%22html%22%3A%20%22%5Cu003cdiv%20style%3D%5C%22font-family%3A%20courier%20new%3B%20color%3A%20red%5C%22%5Cu003e%5B%5Cu0027LAVENO%5Cu0027%5D%5Cu003c/div%5Cu003e%22%7D%29%3B%0A%20%20%20%20%20%20%20%20%20%20%20%20marker_ca5a9a2fa215439c854b783922fef4aa.setIcon%28div_icon_c05312c26c064e4a95c2eefa43c2bf55%29%3B%0A%20%20%20%20%20%20%20%20%0A%20%20%20%20%0A%20%20%20%20%20%20%20%20%20%20%20%20var%20marker_0b7a107717aa4fedabcfbe5555d9cfc2%20%3D%20L.marker%28%0A%20%20%20%20%20%20%20%20%20%20%20%20%20%20%20%20%5B45.898911%2C%208.660738%5D%2C%0A%20%20%20%20%20%20%20%20%20%20%20%20%20%20%20%20%7B%7D%0A%20%20%20%20%20%20%20%20%20%20%20%20%29.addTo%28map_0bb1b1f9e3b8402c9e3158d072143b15%29%3B%0A%20%20%20%20%20%20%20%20%0A%20%20%20%20%0A%20%20%20%20%20%20%20%20%20%20%20%20var%20div_icon_775afd0cc178478f8612792888422201%20%3D%20L.divIcon%28%7B%22className%22%3A%20%22empty%22%2C%20%22html%22%3A%20%22%5Cu003cdiv%20style%3D%5C%22font-family%3A%20courier%20new%3B%20color%3A%20red%5C%22%5Cu003e%5B%5Cu0027CITTIGLIO%5Cu0027%5D%5Cu003c/div%5Cu003e%22%7D%29%3B%0A%20%20%20%20%20%20%20%20%20%20%20%20marker_0b7a107717aa4fedabcfbe5555d9cfc2.setIcon%28div_icon_775afd0cc178478f8612792888422201%29%3B%0A%20%20%20%20%20%20%20%20%0A%20%20%20%20%0A%20%20%20%20%20%20%20%20%20%20%20%20var%20marker_80e66c15242945f8a2df1d09d3adc75d%20%3D%20L.marker%28%0A%20%20%20%20%20%20%20%20%20%20%20%20%20%20%20%20%5B45.944943%2C%208.756447%5D%2C%0A%20%20%20%20%20%20%20%20%20%20%20%20%20%20%20%20%7B%7D%0A%20%20%20%20%20%20%20%20%20%20%20%20%29.addTo%28map_0bb1b1f9e3b8402c9e3158d072143b15%29%3B%0A%20%20%20%20%20%20%20%20%0A%20%20%20%20%0A%20%20%20%20%20%20%20%20%20%20%20%20var%20div_icon_e3fa401695f44fdea9c2cda6d36db315%20%3D%20L.divIcon%28%7B%22className%22%3A%20%22empty%22%2C%20%22html%22%3A%20%22%5Cu003cdiv%20style%3D%5C%22font-family%3A%20courier%20new%3B%20color%3A%20red%5C%22%5Cu003e%5B%5Cu0027MESENZANA%5Cu0027%5D%5Cu003c/div%5Cu003e%22%7D%29%3B%0A%20%20%20%20%20%20%20%20%20%20%20%20marker_80e66c15242945f8a2df1d09d3adc75d.setIcon%28div_icon_e3fa401695f44fdea9c2cda6d36db315%29%3B%0A%20%20%20%20%20%20%20%20%0A%20%20%20%20%0A%20%20%20%20%20%20%20%20%20%20%20%20var%20marker_45b0542f1d6341a1835bec6d37b5bbf2%20%3D%20L.marker%28%0A%20%20%20%20%20%20%20%20%20%20%20%20%20%20%20%20%5B45.842826%2C%208.717671%5D%2C%0A%20%20%20%20%20%20%20%20%20%20%20%20%20%20%20%20%7B%7D%0A%20%20%20%20%20%20%20%20%20%20%20%20%29.addTo%28map_0bb1b1f9e3b8402c9e3158d072143b15%29%3B%0A%20%20%20%20%20%20%20%20%0A%20%20%20%20%0A%20%20%20%20%20%20%20%20%20%20%20%20var%20div_icon_55f87dbdeb394ced82b25273c23daf9c%20%3D%20L.divIcon%28%7B%22className%22%3A%20%22empty%22%2C%20%22html%22%3A%20%22%5Cu003cdiv%20style%3D%5C%22font-family%3A%20courier%20new%3B%20color%3A%20red%5C%22%5Cu003e%5B%5Cu0027GAVIRATE%5Cu0027%5D%5Cu003c/div%5Cu003e%22%7D%29%3B%0A%20%20%20%20%20%20%20%20%20%20%20%20marker_45b0542f1d6341a1835bec6d37b5bbf2.setIcon%28div_icon_55f87dbdeb394ced82b25273c23daf9c%29%3B%0A%20%20%20%20%20%20%20%20%0A%20%20%20%20%0A%20%20%20%20%20%20%20%20%20%20%20%20var%20marker_9b5c9dbcc3374b9c9b61713f842b3317%20%3D%20L.marker%28%0A%20%20%20%20%20%20%20%20%20%20%20%20%20%20%20%20%5B45.818295%2C%208.833517%5D%2C%0A%20%20%20%20%20%20%20%20%20%20%20%20%20%20%20%20%7B%7D%0A%20%20%20%20%20%20%20%20%20%20%20%20%29.addTo%28map_0bb1b1f9e3b8402c9e3158d072143b15%29%3B%0A%20%20%20%20%20%20%20%20%0A%20%20%20%20%0A%20%20%20%20%20%20%20%20%20%20%20%20var%20div_icon_86474e4872c144f4a9590a82beee3f52%20%3D%20L.divIcon%28%7B%22className%22%3A%20%22empty%22%2C%20%22html%22%3A%20%22%5Cu003cdiv%20style%3D%5C%22font-family%3A%20courier%20new%3B%20color%3A%20red%5C%22%5Cu003e%5B%5Cu0027VARESE%5Cu0027%5D%5Cu003c/div%5Cu003e%22%7D%29%3B%0A%20%20%20%20%20%20%20%20%20%20%20%20marker_9b5c9dbcc3374b9c9b61713f842b3317.setIcon%28div_icon_86474e4872c144f4a9590a82beee3f52%29%3B%0A%20%20%20%20%20%20%20%20%0A%20%20%20%20%0A%20%20%20%20%20%20%20%20%20%20%20%20var%20marker_a86e352b443441c3b245e3a54b39d98b%20%3D%20L.marker%28%0A%20%20%20%20%20%20%20%20%20%20%20%20%20%20%20%20%5B45.783207%2C%208.819962%5D%2C%0A%20%20%20%20%20%20%20%20%20%20%20%20%20%20%20%20%7B%7D%0A%20%20%20%20%20%20%20%20%20%20%20%20%29.addTo%28map_0bb1b1f9e3b8402c9e3158d072143b15%29%3B%0A%20%20%20%20%20%20%20%20%0A%20%20%20%20%0A%20%20%20%20%20%20%20%20%20%20%20%20var%20div_icon_9268f2dc3361470c9c6cbdeaab8827ce%20%3D%20L.divIcon%28%7B%22className%22%3A%20%22empty%22%2C%20%22html%22%3A%20%22%5Cu003cdiv%20style%3D%5C%22font-family%3A%20courier%20new%3B%20color%3A%20red%5C%22%5Cu003e%5B%5Cu0027MILANO%5Cu0027%5D%5Cu003c/div%5Cu003e%22%7D%29%3B%0A%20%20%20%20%20%20%20%20%20%20%20%20marker_a86e352b443441c3b245e3a54b39d98b.setIcon%28div_icon_9268f2dc3361470c9c6cbdeaab8827ce%29%3B%0A%20%20%20%20%20%20%20%20%0A%20%20%20%20%0A%20%20%20%20%20%20%20%20%20%20%20%20var%20marker_f0583d31c4024c709b737368020ee207%20%3D%20L.marker%28%0A%20%20%20%20%20%20%20%20%20%20%20%20%20%20%20%20%5B45.914271%2C%208.794198%5D%2C%0A%20%20%20%20%20%20%20%20%20%20%20%20%20%20%20%20%7B%7D%0A%20%20%20%20%20%20%20%20%20%20%20%20%29.addTo%28map_0bb1b1f9e3b8402c9e3158d072143b15%29%3B%0A%20%20%20%20%20%20%20%20%0A%20%20%20%20%0A%20%20%20%20%20%20%20%20%20%20%20%20var%20div_icon_3cf6baed14ba4a9fb5a4462dff34bd9c%20%3D%20L.divIcon%28%7B%22className%22%3A%20%22empty%22%2C%20%22html%22%3A%20%22%5Cu003cdiv%20style%3D%5C%22font-family%3A%20courier%20new%3B%20color%3A%20red%5C%22%5Cu003e%5B%5Cu0027BEDERO%5Cu0027%5D%5Cu003c/div%5Cu003e%22%7D%29%3B%0A%20%20%20%20%20%20%20%20%20%20%20%20marker_f0583d31c4024c709b737368020ee207.setIcon%28div_icon_3cf6baed14ba4a9fb5a4462dff34bd9c%29%3B%0A%20%20%20%20%20%20%20%20%0A%20%20%20%20%0A%20%20%20%20%20%20%20%20%20%20%20%20var%20marker_982b050e4e714b6c92190daaec11f927%20%3D%20L.marker%28%0A%20%20%20%20%20%20%20%20%20%20%20%20%20%20%20%20%5B45.89318%2C%208.685101%5D%2C%0A%20%20%20%20%20%20%20%20%20%20%20%20%20%20%20%20%7B%7D%0A%20%20%20%20%20%20%20%20%20%20%20%20%29.addTo%28map_0bb1b1f9e3b8402c9e3158d072143b15%29%3B%0A%20%20%20%20%20%20%20%20%0A%20%20%20%20%0A%20%20%20%20%20%20%20%20%20%20%20%20var%20div_icon_e65fcd375ab142379ef547c77d3aedb5%20%3D%20L.divIcon%28%7B%22className%22%3A%20%22empty%22%2C%20%22html%22%3A%20%22%5Cu003cdiv%20style%3D%5C%22font-family%3A%20courier%20new%3B%20color%3A%20red%5C%22%5Cu003e%5B%5Cu0027BRENTA%5Cu0027%5D%5Cu003c/div%5Cu003e%22%7D%29%3B%0A%20%20%20%20%20%20%20%20%20%20%20%20marker_982b050e4e714b6c92190daaec11f927.setIcon%28div_icon_e65fcd375ab142379ef547c77d3aedb5%29%3B%0A%20%20%20%20%20%20%20%20%0A%20%20%20%20%0A%20%20%20%20%20%20%20%20%20%20%20%20var%20marker_2001b9febf87496a94b7007daff3de9d%20%3D%20L.marker%28%0A%20%20%20%20%20%20%20%20%20%20%20%20%20%20%20%20%5B45.949179%2C%208.774329%5D%2C%0A%20%20%20%20%20%20%20%20%20%20%20%20%20%20%20%20%7B%7D%0A%20%20%20%20%20%20%20%20%20%20%20%20%29.addTo%28map_0bb1b1f9e3b8402c9e3158d072143b15%29%3B%0A%20%20%20%20%20%20%20%20%0A%20%20%20%20%0A%20%20%20%20%20%20%20%20%20%20%20%20var%20div_icon_b6d5160ad3c44bb6bd7295f60315f54e%20%3D%20L.divIcon%28%7B%22className%22%3A%20%22empty%22%2C%20%22html%22%3A%20%22%5Cu003cdiv%20style%3D%5C%22font-family%3A%20courier%20new%3B%20color%3A%20red%5C%22%5Cu003e%5B%5Cu0027GRANTOLA%5Cu0027%5D%5Cu003c/div%5Cu003e%22%7D%29%3B%0A%20%20%20%20%20%20%20%20%20%20%20%20marker_2001b9febf87496a94b7007daff3de9d.setIcon%28div_icon_b6d5160ad3c44bb6bd7295f60315f54e%29%3B%0A%20%20%20%20%20%20%20%20%0A%20%20%20%20%0A%20%20%20%20%20%20%20%20%20%20%20%20var%20marker_e99048c7250f4e919fd9cce49ee9222e%20%3D%20L.marker%28%0A%20%20%20%20%20%20%20%20%20%20%20%20%20%20%20%20%5B45.896177%2C%208.734129%5D%2C%0A%20%20%20%20%20%20%20%20%20%20%20%20%20%20%20%20%7B%7D%0A%20%20%20%20%20%20%20%20%20%20%20%20%29.addTo%28map_0bb1b1f9e3b8402c9e3158d072143b15%29%3B%0A%20%20%20%20%20%20%20%20%0A%20%20%20%20%0A%20%20%20%20%20%20%20%20%20%20%20%20var%20div_icon_70e4f6e0a9bb495e97dec9f71bc50b17%20%3D%20L.divIcon%28%7B%22className%22%3A%20%22empty%22%2C%20%22html%22%3A%20%22%5Cu003cdiv%20style%3D%5C%22font-family%3A%20courier%20new%3B%20color%3A%20red%5C%22%5Cu003e%5B%5Cu0027CUVIO%5Cu0027%5D%5Cu003c/div%5Cu003e%22%7D%29%3B%0A%20%20%20%20%20%20%20%20%20%20%20%20marker_e99048c7250f4e919fd9cce49ee9222e.setIcon%28div_icon_70e4f6e0a9bb495e97dec9f71bc50b17%29%3B%0A%20%20%20%20%20%20%20%20%0A%3C/script%3E onload=\"this.contentDocument.open();this.contentDocument.write(    decodeURIComponent(this.getAttribute('data-html')));this.contentDocument.close();\" allowfullscreen webkitallowfullscreen mozallowfullscreen></iframe></div></div>"
      ],
      "text/plain": [
       "<folium.folium.Map at 0x7fd97f2bb1c0>"
      ]
     },
     "execution_count": 37,
     "metadata": {},
     "output_type": "execute_result"
    }
   ],
   "source": [
    "mappa_tranvia"
   ]
  },
  {
   "cell_type": "code",
   "execution_count": 38,
   "id": "c3c3dfc7",
   "metadata": {},
   "outputs": [],
   "source": [
    "mappa_tranvia.save('mappatram.html')"
   ]
  },
  {
   "cell_type": "code",
   "execution_count": 183,
   "id": "6ab838f8",
   "metadata": {},
   "outputs": [
    {
     "data": {
      "text/plain": [
       "array([[45.993507,  8.724158, 45.998908,  8.739907],\n",
       "       [45.993507,  8.724158, 45.982172,  8.88588 ],\n",
       "       [45.898911,  8.660738, 45.818295,  8.833517],\n",
       "       [45.973207,  8.768819, 45.998908,  8.739907],\n",
       "       [45.947817,  8.757834, 45.998908,  8.739907],\n",
       "       [45.947817,  8.757834, 45.982172,  8.88588 ],\n",
       "       [45.898911,  8.660738, 45.911884,  8.619172],\n",
       "       [45.898911,  8.660738, 45.842826,  8.717671],\n",
       "       [45.914271,  8.794198, 45.818295,  8.833517],\n",
       "       [45.896177,  8.734129, 45.818295,  8.833517],\n",
       "       [45.973207,  8.768819, 45.982172,  8.88588 ],\n",
       "       [45.949179,  8.774329, 45.998908,  8.739907],\n",
       "       [45.89318 ,  8.685101, 45.818295,  8.833517],\n",
       "       [45.898911,  8.660738, 45.464204,  9.189982],\n",
       "       [45.993507,  8.724158, 45.818295,  8.833517]])"
      ]
     },
     "execution_count": 183,
     "metadata": {},
     "output_type": "execute_result"
    }
   ],
   "source": [
    "points"
   ]
  }
 ],
 "metadata": {
  "kernelspec": {
   "display_name": "Python 3 (ipykernel)",
   "language": "python",
   "name": "python3"
  },
  "language_info": {
   "codemirror_mode": {
    "name": "ipython",
    "version": 3
   },
   "file_extension": ".py",
   "mimetype": "text/x-python",
   "name": "python",
   "nbconvert_exporter": "python",
   "pygments_lexer": "ipython3",
   "version": "3.9.7"
  }
 },
 "nbformat": 4,
 "nbformat_minor": 5
}
